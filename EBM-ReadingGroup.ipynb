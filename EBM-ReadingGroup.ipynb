{
 "cells": [
  {
   "cell_type": "code",
   "execution_count": null,
   "metadata": {},
   "outputs": [],
   "source": [
    "pip install interpret"
   ]
  },
  {
   "cell_type": "code",
   "execution_count": 1,
   "metadata": {},
   "outputs": [
    {
     "name": "stderr",
     "output_type": "stream",
     "text": [
      "/Users/katherine/opt/anaconda3/lib/python3.8/site-packages/interpret/visual/udash.py:5: UserWarning: \n",
      "The dash_html_components package is deprecated. Please replace\n",
      "`import dash_html_components as html` with `from dash import html`\n",
      "  import dash_html_components as html\n",
      "/Users/katherine/opt/anaconda3/lib/python3.8/site-packages/interpret/visual/udash.py:6: UserWarning: \n",
      "The dash_core_components package is deprecated. Please replace\n",
      "`import dash_core_components as dcc` with `from dash import dcc`\n",
      "  import dash_core_components as dcc\n",
      "/Users/katherine/opt/anaconda3/lib/python3.8/site-packages/interpret/visual/udash.py:7: UserWarning: \n",
      "The dash_table package is deprecated. Please replace\n",
      "`import dash_table` with `from dash import dash_table`\n",
      "\n",
      "Also, if you're using any of the table format helpers (e.g. Group), replace \n",
      "`from dash_table.Format import Group` with \n",
      "`from dash.dash_table.Format import Group`\n",
      "  import dash_table as dt\n"
     ]
    }
   ],
   "source": [
    "import pandas as pd\n",
    "import numpy as np\n",
    "from sklearn.metrics import roc_auc_score\n",
    "from interpret.glassbox import ExplainableBoostingClassifier\n",
    "from sklearn.model_selection import RandomizedSearchCV\n",
    "from sklearn.model_selection import train_test_split\n",
    "from sklearn.preprocessing import StandardScaler\n",
    "from interpret import perf\n",
    "from interpret import show\n",
    "from interpret.provider import InlineProvider\n",
    "from interpret import set_visualize_provider\n",
    "from interpret.data import ClassHistogram\n",
    "\n",
    "set_visualize_provider(InlineProvider())\n",
    "from interpret import set_show_addr\n",
    "\n",
    "#if show() does not show anything use this command\n",
    "set_show_addr((\"127.0.0.1\", 7080))   # takes in a tuple of (ip_addr : str, and port : int)\n"
   ]
  },
  {
   "cell_type": "code",
   "execution_count": 2,
   "metadata": {},
   "outputs": [
    {
     "data": {
      "text/html": [
       "<!-- http://127.0.0.1:7080/140347803420560/ -->\n",
       "<iframe src=\"http://127.0.0.1:7080/140347803420560/\" width=100% height=800 frameBorder=\"0\"></iframe>"
      ]
     },
     "metadata": {},
     "output_type": "display_data"
    }
   ],
   "source": [
    "#read in data, split, and do some light eda\n",
    "data = pd.read_csv(\n",
    "    \"https://archive.ics.uci.edu/ml/machine-learning-databases/adult/adult.data\",\n",
    "    header=None)\n",
    "\n",
    "data.columns = [\n",
    "    \"Age\", \"WorkClass\", \"fnlwgt\", \"Education\", \"EducationNum\",\n",
    "    \"MaritalStatus\", \"Occupation\", \"Relationship\", \"Race\", \"Gender\",\n",
    "    \"CapitalGain\", \"CapitalLoss\", \"HoursPerWeek\", \"NativeCountry\", \"Income\"\n",
    "]\n",
    "X = data.drop([\"Income\"], axis=1)\n",
    "y = data[\"Income\"]\n",
    "\n",
    "X_train, X_test, y_train, y_test = train_test_split(\n",
    "    X, y, test_size=0.33, random_state=42, stratify=y\n",
    ")\n",
    "\n",
    "hist = ClassHistogram().explain_data(X_train, y_train, name=\"Train Data\")\n",
    "show(hist)"
   ]
  },
  {
   "cell_type": "code",
   "execution_count": 3,
   "metadata": {},
   "outputs": [
    {
     "data": {
      "text/plain": [
       "RandomizedSearchCV(cv=3,\n",
       "                   estimator=ExplainableBoostingClassifier(feature_names=Index(['Age', 'WorkClass', 'fnlwgt', 'Education', 'EducationNum',\n",
       "       'MaritalStatus', 'Occupation', 'Relationship', 'Race', 'Gender',\n",
       "       'CapitalGain', 'CapitalLoss', 'HoursPerWeek', 'NativeCountry'],\n",
       "      dtype='object')),\n",
       "                   param_distributions={'interactions': [5, 10, 15],\n",
       "                                        'learning_rate': [0.001, 0.005, 0.01,\n",
       "                                                          0.03],\n",
       "                                        'max_interaction_bins': [10, 15, 20],\n",
       "                                        'max_leaves': [3, 5, 10],\n",
       "                                        'max_rounds': [5000, 10000, 15000,\n",
       "                                                       20000],\n",
       "                                        'min_samples_leaf': [2, 3, 5]},\n",
       "                   random_state=314, scoring='roc_auc', verbose=False)"
      ]
     },
     "execution_count": 3,
     "metadata": {},
     "output_type": "execute_result"
    }
   ],
   "source": [
    "param_test = {\n",
    "    \"learning_rate\": [0.001, 0.005, 0.01, 0.03],\n",
    "    \"interactions\": [5, 10, 15],\n",
    "    \"max_interaction_bins\": [10, 15, 20],\n",
    "    \"max_rounds\": [5000, 10000, 15000, 20000],\n",
    "    \"min_samples_leaf\": [2, 3, 5],\n",
    "    \"max_leaves\": [3, 5, 10],\n",
    "}\n",
    "\n",
    "n_HP_points_to_test = 10\n",
    "EBM_clf = ExplainableBoostingClassifier(feature_names=X_train.columns)\n",
    "EBM_gs = RandomizedSearchCV(\n",
    "    estimator=EBM_clf,\n",
    "    param_distributions=param_test,\n",
    "    n_iter=n_HP_points_to_test,\n",
    "    scoring=\"roc_auc\",\n",
    "    cv=3,\n",
    "    refit=True,\n",
    "    random_state=314,\n",
    "    verbose=False,\n",
    ")\n",
    "\n",
    "EBM_gs.fit(X_train, y_train)"
   ]
  },
  {
   "cell_type": "code",
   "execution_count": 4,
   "metadata": {},
   "outputs": [
    {
     "name": "stdout",
     "output_type": "stream",
     "text": [
      "ExplainableBoostingClassifier(feature_names=['Age', 'WorkClass', 'fnlwgt',\n",
      "                                             'Education', 'EducationNum',\n",
      "                                             'MaritalStatus', 'Occupation',\n",
      "                                             'Relationship', 'Race', 'Gender',\n",
      "                                             'CapitalGain', 'CapitalLoss',\n",
      "                                             'HoursPerWeek', 'NativeCountry',\n",
      "                                             'Relationship x HoursPerWeek',\n",
      "                                             'Occupation x Relationship',\n",
      "                                             'Age x Relationship',\n",
      "                                             'MaritalStatus x HoursPerWeek',\n",
      "                                             'Occupation x HoursPerWeek',\n",
      "                                             'fnl...\n",
      "                                             'continuous', 'categorical',\n",
      "                                             'categorical', 'categorical',\n",
      "                                             'categorical', 'categorical',\n",
      "                                             'continuous', 'continuous',\n",
      "                                             'continuous', 'categorical',\n",
      "                                             'interaction', 'interaction',\n",
      "                                             'interaction', 'interaction',\n",
      "                                             'interaction', 'interaction',\n",
      "                                             'interaction', 'interaction',\n",
      "                                             'interaction', 'interaction'],\n",
      "                              learning_rate=0.03, max_interaction_bins=20,\n",
      "                              max_leaves=10, min_samples_leaf=5)\n"
     ]
    }
   ],
   "source": [
    "print(EBM_gs.best_estimator_)"
   ]
  },
  {
   "cell_type": "code",
   "execution_count": 5,
   "metadata": {},
   "outputs": [
    {
     "name": "stdout",
     "output_type": "stream",
     "text": [
      "[' <=50K' ' >50K']\n"
     ]
    }
   ],
   "source": [
    "print(data.Income.unique())"
   ]
  },
  {
   "cell_type": "code",
   "execution_count": 6,
   "metadata": {},
   "outputs": [
    {
     "data": {
      "text/html": [
       "<!-- http://127.0.0.1:7080/140347802957040/ -->\n",
       "<iframe src=\"http://127.0.0.1:7080/140347802957040/\" width=100% height=800 frameBorder=\"0\"></iframe>"
      ]
     },
     "metadata": {},
     "output_type": "display_data"
    }
   ],
   "source": [
    "roc = perf.ROC(EBM_gs.best_estimator_.predict_proba, feature_names=X_train.columns)\n",
    "\n",
    "y_test_roc = y_test.map({' >50K':1, ' <=50K':0})\n",
    "\n",
    "roc_explanation = roc.explain_perf(X_test, y_test_roc)\n",
    "\n",
    "show(roc_explanation)"
   ]
  },
  {
   "cell_type": "code",
   "execution_count": 7,
   "metadata": {},
   "outputs": [
    {
     "data": {
      "text/html": [
       "<!-- http://127.0.0.1:7080/140347846606416/ -->\n",
       "<iframe src=\"http://127.0.0.1:7080/140347846606416/\" width=100% height=800 frameBorder=\"0\"></iframe>"
      ]
     },
     "metadata": {},
     "output_type": "display_data"
    }
   ],
   "source": [
    "ebm_global = EBM_gs.best_estimator_.explain_global()\n",
    "show(ebm_global)"
   ]
  },
  {
   "cell_type": "code",
   "execution_count": 8,
   "metadata": {},
   "outputs": [
    {
     "data": {
      "text/html": [
       "<!-- http://127.0.0.1:7080/140347853037232/ -->\n",
       "<iframe src=\"http://127.0.0.1:7080/140347853037232/\" width=100% height=800 frameBorder=\"0\"></iframe>"
      ]
     },
     "metadata": {},
     "output_type": "display_data"
    }
   ],
   "source": [
    "ebm_local = EBM_gs.best_estimator_.explain_local(X_test[10:15], y_test[10:15])\n",
    "show(ebm_local)"
   ]
  },
  {
   "cell_type": "markdown",
   "metadata": {},
   "source": [
    "# Dashboard"
   ]
  },
  {
   "cell_type": "code",
   "execution_count": 9,
   "metadata": {},
   "outputs": [
    {
     "data": {
      "text/html": [
       "<!-- http://127.0.0.1:7080/140347845580672/ -->\n",
       "<a href=\"http://127.0.0.1:7080/140347845580672/\" target=\"_new\">Open in new window</a><iframe src=\"http://127.0.0.1:7080/140347845580672/\" width=100% height=800 frameBorder=\"0\"></iframe>"
      ]
     },
     "metadata": {},
     "output_type": "display_data"
    }
   ],
   "source": [
    "show([hist, ebm_global, ebm_local])"
   ]
  },
  {
   "cell_type": "code",
   "execution_count": 13,
   "metadata": {},
   "outputs": [
    {
     "data": {
      "text/plain": [
       "<interpret.glassbox.decisiontree.ClassificationTree at 0x7fa544f7c370>"
      ]
     },
     "execution_count": 13,
     "metadata": {},
     "output_type": "execute_result"
    }
   ],
   "source": [
    "from interpret.glassbox import LogisticRegression, ClassificationTree\n",
    "\n",
    "seed = 123\n",
    "\n",
    "# We have to transform categorical variables to use Logistic Regression and Decision Tree\n",
    "X_enc = pd.get_dummies(X, prefix_sep='.')\n",
    "feature_names = list(X_enc.columns)\n",
    "X_train_enc, X_test_enc, y_train, y_test = train_test_split(X_enc, y, test_size=0.20, random_state=seed)\n",
    "\n",
    "lr = LogisticRegression(random_state=seed, feature_names=feature_names, penalty='l1', solver='liblinear')\n",
    "lr.fit(X_train_enc, y_train)\n",
    "\n",
    "tree = ClassificationTree()\n",
    "tree.fit(X_train_enc, y_train)"
   ]
  },
  {
   "cell_type": "code",
   "execution_count": 14,
   "metadata": {},
   "outputs": [
    {
     "data": {
      "text/html": [
       "<!-- http://127.0.0.1:7080/140347817704512/ -->\n",
       "<a href=\"http://127.0.0.1:7080/140347817704512/\" target=\"_new\">Open in new window</a><iframe src=\"http://127.0.0.1:7080/140347817704512/\" width=100% height=800 frameBorder=\"0\"></iframe>"
      ]
     },
     "metadata": {},
     "output_type": "display_data"
    }
   ],
   "source": [
    "lr_global = lr.explain_global(name='Logistic Regression')\n",
    "tree_global = tree.explain_global(name='Classification Tree')\n",
    "\n",
    "show([hist, ebm_global, ebm_local, lr_global, tree_global], shared_tables = True)"
   ]
  },
  {
   "cell_type": "markdown",
   "metadata": {},
   "source": [
    "# Other bells and whistles"
   ]
  },
  {
   "cell_type": "code",
   "execution_count": 15,
   "metadata": {},
   "outputs": [
    {
     "name": "stderr",
     "output_type": "stream",
     "text": [
      "/Users/katherine/opt/anaconda3/lib/python3.8/site-packages/interpret/glassbox/ebm/ebm.py:843: UserWarning:\n",
      "\n",
      "Possible privacy violation: assuming min/max values per feature/target are public info.Pass a privacy schema with known public ranges to avoid this warning.\n",
      "\n"
     ]
    },
    {
     "name": "stdout",
     "output_type": "stream",
     "text": [
      "DP EBM with eps: 1 and delta: 1e-06 trained in 1.61 seconds with a test AUC of 0.880\n",
      "EBM trained in 6.03 seconds with a test AUC of 0.925\n"
     ]
    }
   ],
   "source": [
    "#if you need to keep your data private, use Differentially Private EBMs (see DP-EBMs)\n",
    "#link to paper: http://proceedings.mlr.press/v139/nori21a/nori21a.pdf\n",
    "\n",
    "from interpret.privacy import DPExplainableBoostingClassifier\n",
    "from interpret.glassbox import ExplainableBoostingClassifier\n",
    "import time\n",
    "from sklearn.metrics import roc_auc_score, accuracy_score\n",
    "\n",
    "\n",
    "df = data.sample(frac=0.50)\n",
    "train_cols = df.columns[0:-1]\n",
    "label = df.columns[-1]\n",
    "X = df[train_cols]\n",
    "y = df[label]\n",
    "y = y.map({' >50K':1, ' <=50K':0})\n",
    "\n",
    "seed = 1\n",
    "X_train, X_test, y_train, y_test = train_test_split(X, y, test_size=0.20, random_state=seed)\n",
    "\n",
    "\n",
    "start = time.time()\n",
    "dpebm = DPExplainableBoostingClassifier(epsilon=1, delta=1e-6)\n",
    "_ = dpebm.fit(X_train, y_train)\n",
    "\n",
    "dp_auroc = roc_auc_score(y_test, dpebm.predict_proba(X_test)[:, 1])\n",
    "end = time.time()\n",
    "\n",
    "print(f\"DP EBM with eps: {dpebm.epsilon} and delta: {dpebm.delta} trained in {end - start:.2f} seconds with a test AUC of {dp_auroc:.3f}\")\n",
    "\n",
    "\n",
    "start = time.time()\n",
    "ebm = ExplainableBoostingClassifier()\n",
    "_ = ebm.fit(X_train, y_train)\n",
    "\n",
    "ebm_auroc = roc_auc_score(y_test, ebm.predict_proba(X_test)[:, 1])\n",
    "end = time.time()\n",
    "print(f\"EBM trained in {end - start:.2f} seconds with a test AUC of {ebm_auroc:.3f}\")"
   ]
  },
  {
   "cell_type": "code",
   "execution_count": 16,
   "metadata": {},
   "outputs": [
    {
     "data": {
      "text/html": [
       "<!-- http://127.0.0.1:7080/140347815337360/ -->\n",
       "<iframe src=\"http://127.0.0.1:7080/140347815337360/\" width=100% height=800 frameBorder=\"0\"></iframe>"
      ]
     },
     "metadata": {},
     "output_type": "display_data"
    },
    {
     "data": {
      "text/html": [
       "<!-- http://127.0.0.1:7080/140347815336640/ -->\n",
       "<iframe src=\"http://127.0.0.1:7080/140347815336640/\" width=100% height=800 frameBorder=\"0\"></iframe>"
      ]
     },
     "metadata": {},
     "output_type": "display_data"
    }
   ],
   "source": [
    "show(ebm.explain_global())\n",
    "show(dpebm.explain_global())"
   ]
  },
  {
   "cell_type": "code",
   "execution_count": null,
   "metadata": {},
   "outputs": [],
   "source": [
    "#There's also a merge command\n",
    "\n",
    "'''from interpret.glassbox.ebm.utils import *\n",
    "models = [ebm1, ebm2 , ebm3]\n",
    "merged_ebm = EBMUtils.merge_models(models=models)\n",
    "\n",
    "ebm_global = merged_ebm.explain_global(name='EBM')\n",
    "show(ebm_global)'''"
   ]
  }
 ],
 "metadata": {
  "kernelspec": {
   "display_name": "Python 3",
   "language": "python",
   "name": "python3"
  },
  "language_info": {
   "codemirror_mode": {
    "name": "ipython",
    "version": 3
   },
   "file_extension": ".py",
   "mimetype": "text/x-python",
   "name": "python",
   "nbconvert_exporter": "python",
   "pygments_lexer": "ipython3",
   "version": "3.8.3"
  }
 },
 "nbformat": 4,
 "nbformat_minor": 4
}
